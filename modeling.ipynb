{
 "cells": [
  {
   "cell_type": "code",
   "execution_count": null,
   "id": "5e9cb556",
   "metadata": {},
   "outputs": [],
   "source": [
    "# some auxiliary code from https://curiousily.com/posts/sentiment-analysis-with-bert-and-hugging-face-using-pytorch-and-python/"
   ]
  },
  {
   "cell_type": "code",
   "execution_count": 1,
   "id": "e9699014",
   "metadata": {},
   "outputs": [],
   "source": [
    "import os\n",
    "import torch\n",
    "import torch.nn as nn\n",
    "import pandas as pd\n",
    "from collections import defaultdict\n",
    "from transformers import (\n",
    "    DistilBertTokenizer,\n",
    "    DataCollatorWithPadding,\n",
    "    DistilBertModel,\n",
    "    get_linear_schedule_with_warmup\n",
    ")\n",
    "from load_data import create_data_loader\n",
    "from train_eval import train_epoch, eval_model\n",
    "from sklearn.model_selection import train_test_split\n",
    "from config import (\n",
    "    DIR_, EPOCHS, PRE_TRAINED_MODEL_NAME, RANDOM_STATE,\n",
    "    TEST_SIZE, DATA_PATH, TARGET_COL, TEXT_COL, LR\n",
    "    )"
   ]
  },
  {
   "cell_type": "code",
   "execution_count": 2,
   "id": "af612535",
   "metadata": {},
   "outputs": [],
   "source": [
    "device = torch.device(\"cuda\" if torch.cuda.is_available() else \"cpu\")\n",
    "\n",
    "if not os.path.exists(DIR_):\n",
    "    os.mkdir(DIR_)"
   ]
  },
  {
   "cell_type": "code",
   "execution_count": 3,
   "id": "1112d6dd",
   "metadata": {},
   "outputs": [],
   "source": [
    "# instantiate df, tokenizer and data collator\n",
    "df = pd.read_csv(DATA_PATH)[[TEXT_COL, TARGET_COL]]\n",
    "tokenizer = DistilBertTokenizer.from_pretrained(PRE_TRAINED_MODEL_NAME)\n",
    "data_collator = DataCollatorWithPadding(tokenizer=tokenizer)"
   ]
  },
  {
   "cell_type": "code",
   "execution_count": 5,
   "id": "89ebfae4",
   "metadata": {},
   "outputs": [],
   "source": [
    "# load data and data loaders\n",
    "tr_data, te_data = train_test_split(df, test_size=TEST_SIZE, random_state=RANDOM_STATE)\n",
    "te_data, val_data = train_test_split(\n",
    "    te_data, test_size=TEST_SIZE*0.5, random_state=RANDOM_STATE)\n",
    "\n",
    "tr_data_loader, te_data_loader, val_data_loader = (\n",
    "    create_data_loader(d, tokenizer) for d in [tr_data, te_data, val_data]\n",
    ")"
   ]
  },
  {
   "cell_type": "code",
   "execution_count": 6,
   "id": "b0068ed4",
   "metadata": {},
   "outputs": [],
   "source": [
    "# using this a starting point:\n",
    "# # https://www.kaggle.com/code/samson22/distilbert-in-pytorch\n",
    "class Classifier(nn.Module):\n",
    "    def __init__(self):\n",
    "        super(Classifier, self).__init__()\n",
    "        self.model = DistilBertModel.from_pretrained(PRE_TRAINED_MODEL_NAME)\n",
    "        config = self.model.config\n",
    "        self.pre_classifier = nn.Linear(\n",
    "            config.hidden_size, config.hidden_size)\n",
    "        self.classifier = nn.Linear(config.hidden_size, config.num_labels)\n",
    "        self.dropout = nn.Dropout(config.dropout)\n",
    "        \n",
    "    def forward(self, input_ids=None, attention_mask=None):\n",
    "        distilbert_output = self.model(\n",
    "            input_ids=input_ids, \n",
    "            attention_mask=attention_mask\n",
    "        )\n",
    "        hidden_state = distilbert_output[0]\n",
    "        pooled_output = hidden_state[:, 0]\n",
    "        pooled_output = self.pre_classifier(pooled_output)\n",
    "        pooled_output = nn.ReLU()(pooled_output)\n",
    "        pooled_output = self.dropout(pooled_output)\n",
    "        logits = self.classifier(pooled_output)\n",
    "\n",
    "        return logits"
   ]
  },
  {
   "cell_type": "code",
   "execution_count": 7,
   "id": "a97d64f3",
   "metadata": {},
   "outputs": [
    {
     "name": "stderr",
     "output_type": "stream",
     "text": [
      "Some weights of the model checkpoint at distilbert-base-cased were not used when initializing DistilBertModel: ['vocab_transform.bias', 'vocab_layer_norm.bias', 'vocab_projector.bias', 'vocab_projector.weight', 'vocab_transform.weight', 'vocab_layer_norm.weight']\n",
      "- This IS expected if you are initializing DistilBertModel from the checkpoint of a model trained on another task or with another architecture (e.g. initializing a BertForSequenceClassification model from a BertForPreTraining model).\n",
      "- This IS NOT expected if you are initializing DistilBertModel from the checkpoint of a model that you expect to be exactly identical (initializing a BertForSequenceClassification model from a BertForSequenceClassification model).\n"
     ]
    }
   ],
   "source": [
    "model = Classifier().to(device)\n",
    "\n",
    "optimizer = torch.optim.AdamW(model.parameters(), lr=LR)\n",
    "total_steps = len(tr_data_loader) * EPOCHS\n",
    "\n",
    "scheduler = get_linear_schedule_with_warmup(\n",
    "    optimizer,\n",
    "    num_warmup_steps=0,\n",
    "    num_training_steps=total_steps\n",
    ")\n",
    "criterion = nn.CrossEntropyLoss().to(device)"
   ]
  },
  {
   "cell_type": "code",
   "execution_count": 8,
   "id": "77647657",
   "metadata": {},
   "outputs": [
    {
     "name": "stdout",
     "output_type": "stream",
     "text": [
      "cpu\n"
     ]
    }
   ],
   "source": [
    "print(device)"
   ]
  },
  {
   "cell_type": "code",
   "execution_count": null,
   "id": "8a27bf5a",
   "metadata": {},
   "outputs": [],
   "source": [
    "%%time\n",
    "\n",
    "history = defaultdict(list)\n",
    "best_accuracy = 0\n",
    "\n",
    "for e in range(EPOCHS):\n",
    "    print(f\"Epoch {e+1}/{EPOCHS}\")\n",
    "    print('-'*10)\n",
    "\n",
    "    train_acc, train_loss = train_epoch(\n",
    "        model, tr_data_loader, criterion, optimizer, device, scheduler, len(tr_data)\n",
    "      )\n",
    "\n",
    "    print(f\"Train Loss: {train_loss} // Train Accuracy: {train_acc}\")\n",
    "\n",
    "    val_acc, val_loss = eval_model(\n",
    "        model, val_data_loader, criterion, device, len(val_data)\n",
    "    )\n",
    "\n",
    "    print(f\"Val Loss: {val_loss} // Val Accuracy: {val_acc}\")\n",
    "\n",
    "    if val_acc > best_accuracy:\n",
    "        torch.save(model.state_dict(), \"best_model_state.bin\")\n",
    "        \n",
    "    best_accuracy = val_acc"
   ]
  }
 ],
 "metadata": {
  "kernelspec": {
   "display_name": "Python 3 (ipykernel)",
   "language": "python",
   "name": "python3"
  },
  "language_info": {
   "codemirror_mode": {
    "name": "ipython",
    "version": 3
   },
   "file_extension": ".py",
   "mimetype": "text/x-python",
   "name": "python",
   "nbconvert_exporter": "python",
   "pygments_lexer": "ipython3",
   "version": "3.10.4"
  }
 },
 "nbformat": 4,
 "nbformat_minor": 5
}
